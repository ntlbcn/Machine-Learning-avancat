{
 "cells": [
  {
   "cell_type": "markdown",
   "id": "e253b315",
   "metadata": {},
   "source": [
    "# M7 T01: Pipelines, grid search i text mining\n",
    "\n",
    "Comencem a familiaritzar-nos amb Pipelines, grid search i text mining !!! Comencem amb uns quants exercicis bàsics\n",
    "\n",
    "Recursos de l'aula i https://www.nltk.org"
   ]
  },
  {
   "cell_type": "markdown",
   "id": "42270d21",
   "metadata": {},
   "source": [
    "## Nivell 1 - Exercici 1\n",
    "Agafa el conjunt de dades que vulguis i realitza un pipeline i un gridsearch aplicant l'algorisme de Random Forest."
   ]
  },
  {
   "cell_type": "markdown",
   "id": "cf83cc15",
   "metadata": {},
   "source": [
    "_Treballarem amb el dataset **temps**, que hem vist anteriorment en el tutorial de Random Forest. Per llegir les dades necessitem la llibreria **panda**, aprofitem per carregar altres llibreries que necessitarem més endevant_"
   ]
  },
  {
   "cell_type": "code",
   "execution_count": 1,
   "id": "9f7023b8",
   "metadata": {},
   "outputs": [],
   "source": [
    "import pandas as pd\n",
    "import numpy as np\n",
    "\n",
    "from sklearn.preprocessing import StandardScaler\n",
    "from sklearn.model_selection import GridSearchCV\n",
    "from sklearn.pipeline import Pipeline\n",
    "from sklearn.ensemble import RandomForestRegressor"
   ]
  },
  {
   "cell_type": "code",
   "execution_count": 2,
   "id": "50e4271c",
   "metadata": {},
   "outputs": [
    {
     "data": {
      "text/html": [
       "<div>\n",
       "<style scoped>\n",
       "    .dataframe tbody tr th:only-of-type {\n",
       "        vertical-align: middle;\n",
       "    }\n",
       "\n",
       "    .dataframe tbody tr th {\n",
       "        vertical-align: top;\n",
       "    }\n",
       "\n",
       "    .dataframe thead th {\n",
       "        text-align: right;\n",
       "    }\n",
       "</style>\n",
       "<table border=\"1\" class=\"dataframe\">\n",
       "  <thead>\n",
       "    <tr style=\"text-align: right;\">\n",
       "      <th></th>\n",
       "      <th>year</th>\n",
       "      <th>month</th>\n",
       "      <th>day</th>\n",
       "      <th>week</th>\n",
       "      <th>temp_2</th>\n",
       "      <th>temp_1</th>\n",
       "      <th>average</th>\n",
       "      <th>actual</th>\n",
       "      <th>forecast_noaa</th>\n",
       "      <th>forecast_acc</th>\n",
       "      <th>forecast_under</th>\n",
       "      <th>friend</th>\n",
       "    </tr>\n",
       "  </thead>\n",
       "  <tbody>\n",
       "    <tr>\n",
       "      <th>0</th>\n",
       "      <td>2016</td>\n",
       "      <td>1</td>\n",
       "      <td>1</td>\n",
       "      <td>Fri</td>\n",
       "      <td>45</td>\n",
       "      <td>45</td>\n",
       "      <td>45.6</td>\n",
       "      <td>45</td>\n",
       "      <td>43</td>\n",
       "      <td>50</td>\n",
       "      <td>44</td>\n",
       "      <td>29</td>\n",
       "    </tr>\n",
       "    <tr>\n",
       "      <th>1</th>\n",
       "      <td>2016</td>\n",
       "      <td>1</td>\n",
       "      <td>2</td>\n",
       "      <td>Sat</td>\n",
       "      <td>44</td>\n",
       "      <td>45</td>\n",
       "      <td>45.7</td>\n",
       "      <td>44</td>\n",
       "      <td>41</td>\n",
       "      <td>50</td>\n",
       "      <td>44</td>\n",
       "      <td>61</td>\n",
       "    </tr>\n",
       "    <tr>\n",
       "      <th>2</th>\n",
       "      <td>2016</td>\n",
       "      <td>1</td>\n",
       "      <td>3</td>\n",
       "      <td>Sun</td>\n",
       "      <td>45</td>\n",
       "      <td>44</td>\n",
       "      <td>45.8</td>\n",
       "      <td>41</td>\n",
       "      <td>43</td>\n",
       "      <td>46</td>\n",
       "      <td>47</td>\n",
       "      <td>56</td>\n",
       "    </tr>\n",
       "    <tr>\n",
       "      <th>3</th>\n",
       "      <td>2016</td>\n",
       "      <td>1</td>\n",
       "      <td>4</td>\n",
       "      <td>Mon</td>\n",
       "      <td>44</td>\n",
       "      <td>41</td>\n",
       "      <td>45.9</td>\n",
       "      <td>40</td>\n",
       "      <td>44</td>\n",
       "      <td>48</td>\n",
       "      <td>46</td>\n",
       "      <td>53</td>\n",
       "    </tr>\n",
       "    <tr>\n",
       "      <th>4</th>\n",
       "      <td>2016</td>\n",
       "      <td>1</td>\n",
       "      <td>5</td>\n",
       "      <td>Tues</td>\n",
       "      <td>41</td>\n",
       "      <td>40</td>\n",
       "      <td>46.0</td>\n",
       "      <td>44</td>\n",
       "      <td>46</td>\n",
       "      <td>46</td>\n",
       "      <td>46</td>\n",
       "      <td>41</td>\n",
       "    </tr>\n",
       "  </tbody>\n",
       "</table>\n",
       "</div>"
      ],
      "text/plain": [
       "   year  month  day  week  temp_2  temp_1  average  actual  forecast_noaa  \\\n",
       "0  2016      1    1   Fri      45      45     45.6      45             43   \n",
       "1  2016      1    2   Sat      44      45     45.7      44             41   \n",
       "2  2016      1    3   Sun      45      44     45.8      41             43   \n",
       "3  2016      1    4   Mon      44      41     45.9      40             44   \n",
       "4  2016      1    5  Tues      41      40     46.0      44             46   \n",
       "\n",
       "   forecast_acc  forecast_under  friend  \n",
       "0            50              44      29  \n",
       "1            50              44      61  \n",
       "2            46              47      56  \n",
       "3            48              46      53  \n",
       "4            46              46      41  "
      ]
     },
     "execution_count": 2,
     "metadata": {},
     "output_type": "execute_result"
    }
   ],
   "source": [
    "features = pd.read_csv('./../data/temps.csv')\n",
    "features.head()"
   ]
  },
  {
   "cell_type": "markdown",
   "id": "ffa87afd",
   "metadata": {},
   "source": [
    "_Creem els subconjunt de dades X e Y. **actual** serà la nostra variable Y. La resta de variables quantitatives seran les variables X_"
   ]
  },
  {
   "cell_type": "code",
   "execution_count": 3,
   "id": "a84d4a03",
   "metadata": {},
   "outputs": [],
   "source": [
    "Y = np.array(features['actual'])"
   ]
  },
  {
   "cell_type": "code",
   "execution_count": 4,
   "id": "533f14a4",
   "metadata": {},
   "outputs": [
    {
     "data": {
      "text/plain": [
       "(348,)"
      ]
     },
     "execution_count": 4,
     "metadata": {},
     "output_type": "execute_result"
    }
   ],
   "source": [
    "Y.shape"
   ]
  },
  {
   "cell_type": "code",
   "execution_count": 5,
   "id": "6f494b5c",
   "metadata": {},
   "outputs": [],
   "source": [
    "X = features.drop(['actual','year','month','day','week'], axis = 1)"
   ]
  },
  {
   "cell_type": "code",
   "execution_count": 6,
   "id": "fbd2684a",
   "metadata": {},
   "outputs": [
    {
     "data": {
      "text/plain": [
       "(348, 7)"
      ]
     },
     "execution_count": 6,
     "metadata": {},
     "output_type": "execute_result"
    }
   ],
   "source": [
    "X.shape"
   ]
  },
  {
   "cell_type": "markdown",
   "id": "ebd66e85",
   "metadata": {},
   "source": [
    "_Creem el pipeline_"
   ]
  },
  {
   "cell_type": "code",
   "execution_count": 7,
   "id": "69271fad",
   "metadata": {},
   "outputs": [],
   "source": [
    "pipe = Pipeline([('scaler', StandardScaler()),('rf',RandomForestRegressor())])"
   ]
  },
  {
   "cell_type": "markdown",
   "id": "efaf97dd",
   "metadata": {},
   "source": [
    "_Identifiquem els paràmetres que farem servir en el model_"
   ]
  },
  {
   "cell_type": "code",
   "execution_count": 8,
   "id": "98699b69",
   "metadata": {},
   "outputs": [],
   "source": [
    "param = {\n",
    "    'rf__n_estimators': [100,200,500],\n",
    "    'rf__max_depth': [15,20,25]\n",
    "}"
   ]
  },
  {
   "cell_type": "markdown",
   "id": "0794be63",
   "metadata": {},
   "source": [
    "_Ajustem el model_"
   ]
  },
  {
   "cell_type": "code",
   "execution_count": 9,
   "id": "9379d952",
   "metadata": {},
   "outputs": [
    {
     "data": {
      "text/plain": [
       "GridSearchCV(cv=5,\n",
       "             estimator=Pipeline(steps=[('scaler', StandardScaler()),\n",
       "                                       ('rf', RandomForestRegressor())]),\n",
       "             param_grid={'rf__max_depth': [15, 20, 25],\n",
       "                         'rf__n_estimators': [100, 200, 500]})"
      ]
     },
     "execution_count": 9,
     "metadata": {},
     "output_type": "execute_result"
    }
   ],
   "source": [
    "rf_gs = GridSearchCV(pipe,param_grid=param,cv=5)\n",
    "rf_gs.fit(X,Y)"
   ]
  },
  {
   "cell_type": "markdown",
   "id": "5dddd033",
   "metadata": {},
   "source": [
    "## Nivell 1 - Exercici 2\n",
    "Agafa un text en anglès que vulguis, i calcula'n la freqüència de les paraules"
   ]
  },
  {
   "cell_type": "markdown",
   "id": "305f9a9c",
   "metadata": {},
   "source": [
    "_Carreguem les \"llibreries\" corresponents_"
   ]
  },
  {
   "cell_type": "code",
   "execution_count": 10,
   "id": "55334529",
   "metadata": {},
   "outputs": [],
   "source": [
    "import nltk\n",
    "from nltk.tokenize import word_tokenize\n",
    "from nltk.probability import FreqDist"
   ]
  },
  {
   "cell_type": "code",
   "execution_count": 11,
   "id": "1c5c6d1b",
   "metadata": {},
   "outputs": [
    {
     "name": "stderr",
     "output_type": "stream",
     "text": [
      "[nltk_data] Downloading package punkt to\n",
      "[nltk_data]     C:\\Users\\Nuria\\AppData\\Roaming\\nltk_data...\n",
      "[nltk_data]   Package punkt is already up-to-date!\n"
     ]
    },
    {
     "data": {
      "text/plain": [
       "True"
      ]
     },
     "execution_count": 11,
     "metadata": {},
     "output_type": "execute_result"
    }
   ],
   "source": [
    "nltk.download('punkt')"
   ]
  },
  {
   "cell_type": "markdown",
   "id": "dcbbd3da",
   "metadata": {},
   "source": [
    "_Introduim un text en anglès_"
   ]
  },
  {
   "cell_type": "code",
   "execution_count": 8,
   "id": "8704db27",
   "metadata": {},
   "outputs": [],
   "source": [
    "#text = \"The coronavirus is spread through the air, especially in indoor spaces. While it is not as infectious as measles, scientists now openly acknowledge the role played by the transmission of aerosols – tiny contagious particles exhaled by an infected person that remain suspended in the air of an indoor environment. How does the transmission work? And, more importantly, how can we stop it?\""
   ]
  },
  {
   "cell_type": "code",
   "execution_count": 12,
   "id": "1caee66c",
   "metadata": {},
   "outputs": [],
   "source": [
    "text = \"Why data visualization is important for any career. It’s hard to think of a professional industry that doesn’t benefit from making data more understandable. Every STEM field benefits from understanding data—and so do fields in government, finance, marketing, history, consumer goods, service industries, education, sports, and so on. While we’ll always wax poetically about data visualization (you’re on the Tableau website, after all) there are practical, real-life applications that are undeniable. And, since visualization is so prolific, it’s also one of the most useful professional skills to develop. The better you can convey your points visually, whether in a dashboard or a slide deck, the better you can leverage that information. The concept of the citizen data scientist is on the rise. Skill sets are changing to accommodate a data-driven world. It is increasingly valuable for professionals to be able to use data to make decisions and use visuals to tell stories of when data informs the who, what, when, where, and how. While traditional education typically draws a distinct line between creative storytelling and technical analysis, the modern professional world also values those who can cross between the two: data visualization sits right in the middle of analysis and visual storytelling.\""
   ]
  },
  {
   "cell_type": "markdown",
   "id": "0782d4c0",
   "metadata": {},
   "source": [
    "_\"Identifiquem\" les diferents paraules del text introduit_"
   ]
  },
  {
   "cell_type": "code",
   "execution_count": 13,
   "id": "48fb0bca",
   "metadata": {},
   "outputs": [],
   "source": [
    "tokenized_word=word_tokenize(text)"
   ]
  },
  {
   "cell_type": "markdown",
   "id": "186342b0",
   "metadata": {},
   "source": [
    "_Calculem la distribució de les diferents paraules_"
   ]
  },
  {
   "cell_type": "code",
   "execution_count": 14,
   "id": "5b600353",
   "metadata": {},
   "outputs": [],
   "source": [
    "fdist = FreqDist(tokenized_word)"
   ]
  },
  {
   "cell_type": "code",
   "execution_count": 15,
   "id": "4b702be9",
   "metadata": {},
   "outputs": [
    {
     "name": "stdout",
     "output_type": "stream",
     "text": [
      "<FreqDist with 143 samples and 244 outcomes>\n"
     ]
    }
   ],
   "source": [
    "print(fdist)"
   ]
  },
  {
   "cell_type": "markdown",
   "id": "ba82fbf8",
   "metadata": {},
   "source": [
    "_Per cada paraula, mirem la freqüència. I fem el gràfic de les paraules més freqüents_"
   ]
  },
  {
   "cell_type": "code",
   "execution_count": 16,
   "id": "60411b6f",
   "metadata": {},
   "outputs": [
    {
     "name": "stdout",
     "output_type": "stream",
     "text": [
      "Why:1\n",
      "data:7\n",
      "visualization:4\n",
      "is:4\n",
      "important:1\n",
      "for:2\n",
      "any:1\n",
      "career:1\n",
      ".:10\n",
      "It:2\n",
      "’:5\n",
      "s:2\n",
      "hard:1\n",
      "to:7\n",
      "think:1\n",
      "of:5\n",
      "a:5\n",
      "professional:3\n",
      "industry:1\n",
      "that:3\n",
      "doesn:1\n",
      "t:1\n",
      "benefit:1\n",
      "from:2\n",
      "making:1\n",
      "more:1\n",
      "understandable:1\n",
      "Every:1\n",
      "STEM:1\n",
      "field:1\n",
      "benefits:1\n",
      "understanding:1\n",
      "data—and:1\n",
      "so:3\n",
      "do:1\n",
      "fields:1\n",
      "in:3\n",
      "government:1\n",
      ",:19\n",
      "finance:1\n",
      "marketing:1\n",
      "history:1\n",
      "consumer:1\n",
      "goods:1\n",
      "service:1\n",
      "industries:1\n",
      "education:2\n",
      "sports:1\n",
      "and:5\n",
      "on:3\n",
      "While:2\n",
      "we:1\n",
      "ll:1\n",
      "always:1\n",
      "wax:1\n",
      "poetically:1\n",
      "about:1\n",
      "(:1\n",
      "you:3\n",
      "re:1\n",
      "the:9\n",
      "Tableau:1\n",
      "website:1\n",
      "after:1\n",
      "all:1\n",
      "):1\n",
      "there:1\n",
      "are:3\n",
      "practical:1\n",
      "real-life:1\n",
      "applications:1\n",
      "undeniable:1\n",
      "And:1\n",
      "since:1\n",
      "prolific:1\n",
      "it:1\n",
      "also:2\n",
      "one:1\n",
      "most:1\n",
      "useful:1\n",
      "skills:1\n",
      "develop:1\n",
      "The:2\n",
      "better:2\n",
      "can:3\n",
      "convey:1\n",
      "your:1\n",
      "points:1\n",
      "visually:1\n",
      "whether:1\n",
      "dashboard:1\n",
      "or:1\n",
      "slide:1\n",
      "deck:1\n",
      "leverage:1\n",
      "information:1\n",
      "concept:1\n",
      "citizen:1\n",
      "scientist:1\n",
      "rise:1\n",
      "Skill:1\n",
      "sets:1\n",
      "changing:1\n",
      "accommodate:1\n",
      "data-driven:1\n",
      "world:2\n",
      "increasingly:1\n",
      "valuable:1\n",
      "professionals:1\n",
      "be:1\n",
      "able:1\n",
      "use:2\n",
      "make:1\n",
      "decisions:1\n",
      "visuals:1\n",
      "tell:1\n",
      "stories:1\n",
      "when:2\n",
      "informs:1\n",
      "who:2\n",
      "what:1\n",
      "where:1\n",
      "how:1\n",
      "traditional:1\n",
      "typically:1\n",
      "draws:1\n",
      "distinct:1\n",
      "line:1\n",
      "between:2\n",
      "creative:1\n",
      "storytelling:2\n",
      "technical:1\n",
      "analysis:2\n",
      "modern:1\n",
      "values:1\n",
      "those:1\n",
      "cross:1\n",
      "two:1\n",
      "::1\n",
      "sits:1\n",
      "right:1\n",
      "middle:1\n",
      "visual:1\n"
     ]
    }
   ],
   "source": [
    "for key,val in fdist.items():\n",
    "    print (str(key) + ':' + str(val))"
   ]
  },
  {
   "cell_type": "code",
   "execution_count": 17,
   "id": "d09be24b",
   "metadata": {},
   "outputs": [
    {
     "data": {
      "image/png": "[encoded data removed]",
      "text/plain": [
       "<Figure size 432x288 with 1 Axes>"
      ]
     },
     "metadata": {
      "needs_background": "light"
     },
     "output_type": "display_data"
    },
    {
     "data": {
      "text/plain": [
       "<AxesSubplot:xlabel='Samples', ylabel='Counts'>"
      ]
     },
     "execution_count": 17,
     "metadata": {},
     "output_type": "execute_result"
    }
   ],
   "source": [
    "fdist.plot(20, cumulative=False)"
   ]
  },
  {
   "cell_type": "markdown",
   "id": "2997b6e8",
   "metadata": {},
   "source": [
    "## Nivell 2 - Exercici 1\n",
    "Treu les stopwords i realitza stemming al teu conjunt de dades."
   ]
  },
  {
   "cell_type": "markdown",
   "id": "8291762d",
   "metadata": {},
   "source": [
    "_Carreguem els stopwords_"
   ]
  },
  {
   "cell_type": "code",
   "execution_count": 18,
   "id": "c979b80f",
   "metadata": {},
   "outputs": [
    {
     "name": "stderr",
     "output_type": "stream",
     "text": [
      "[nltk_data] Downloading package stopwords to\n",
      "[nltk_data]     C:\\Users\\Nuria\\AppData\\Roaming\\nltk_data...\n",
      "[nltk_data]   Package stopwords is already up-to-date!\n"
     ]
    }
   ],
   "source": [
    "from nltk.corpus import stopwords\n",
    "\n",
    "nltk.download('stopwords')\n",
    "\n",
    "stop_words=set(stopwords.words(\"english\"))"
   ]
  },
  {
   "cell_type": "markdown",
   "id": "5760bf41",
   "metadata": {},
   "source": [
    "_Filtrem les dades segons els valors stopwords_"
   ]
  },
  {
   "cell_type": "code",
   "execution_count": 19,
   "id": "13cb504c",
   "metadata": {},
   "outputs": [],
   "source": [
    "filtered_sent=[]\n",
    "\n",
    "for w in tokenized_word:\n",
    "    if w not in stop_words:\n",
    "        filtered_sent.append(w)"
   ]
  },
  {
   "cell_type": "code",
   "execution_count": 20,
   "id": "d8b7d491",
   "metadata": {},
   "outputs": [
    {
     "name": "stdout",
     "output_type": "stream",
     "text": [
      "Tokenized Sentence: ['Why', 'data', 'visualization', 'is', 'important', 'for', 'any', 'career', '.', 'It', '’', 's', 'hard', 'to', 'think', 'of', 'a', 'professional', 'industry', 'that', 'doesn', '’', 't', 'benefit', 'from', 'making', 'data', 'more', 'understandable', '.', 'Every', 'STEM', 'field', 'benefits', 'from', 'understanding', 'data—and', 'so', 'do', 'fields', 'in', 'government', ',', 'finance', ',', 'marketing', ',', 'history', ',', 'consumer', 'goods', ',', 'service', 'industries', ',', 'education', ',', 'sports', ',', 'and', 'so', 'on', '.', 'While', 'we', '’', 'll', 'always', 'wax', 'poetically', 'about', 'data', 'visualization', '(', 'you', '’', 're', 'on', 'the', 'Tableau', 'website', ',', 'after', 'all', ')', 'there', 'are', 'practical', ',', 'real-life', 'applications', 'that', 'are', 'undeniable', '.', 'And', ',', 'since', 'visualization', 'is', 'so', 'prolific', ',', 'it', '’', 's', 'also', 'one', 'of', 'the', 'most', 'useful', 'professional', 'skills', 'to', 'develop', '.', 'The', 'better', 'you', 'can', 'convey', 'your', 'points', 'visually', ',', 'whether', 'in', 'a', 'dashboard', 'or', 'a', 'slide', 'deck', ',', 'the', 'better', 'you', 'can', 'leverage', 'that', 'information', '.', 'The', 'concept', 'of', 'the', 'citizen', 'data', 'scientist', 'is', 'on', 'the', 'rise', '.', 'Skill', 'sets', 'are', 'changing', 'to', 'accommodate', 'a', 'data-driven', 'world', '.', 'It', 'is', 'increasingly', 'valuable', 'for', 'professionals', 'to', 'be', 'able', 'to', 'use', 'data', 'to', 'make', 'decisions', 'and', 'use', 'visuals', 'to', 'tell', 'stories', 'of', 'when', 'data', 'informs', 'the', 'who', ',', 'what', ',', 'when', ',', 'where', ',', 'and', 'how', '.', 'While', 'traditional', 'education', 'typically', 'draws', 'a', 'distinct', 'line', 'between', 'creative', 'storytelling', 'and', 'technical', 'analysis', ',', 'the', 'modern', 'professional', 'world', 'also', 'values', 'those', 'who', 'can', 'cross', 'between', 'the', 'two', ':', 'data', 'visualization', 'sits', 'right', 'in', 'the', 'middle', 'of', 'analysis', 'and', 'visual', 'storytelling', '.']\n"
     ]
    }
   ],
   "source": [
    "print(\"Tokenized Sentence:\",tokenized_word)"
   ]
  },
  {
   "cell_type": "code",
   "execution_count": 21,
   "id": "a5bd9f2b",
   "metadata": {},
   "outputs": [
    {
     "name": "stdout",
     "output_type": "stream",
     "text": [
      "Filterd Sentence: ['Why', 'data', 'visualization', 'important', 'career', '.', 'It', '’', 'hard', 'think', 'professional', 'industry', '’', 'benefit', 'making', 'data', 'understandable', '.', 'Every', 'STEM', 'field', 'benefits', 'understanding', 'data—and', 'fields', 'government', ',', 'finance', ',', 'marketing', ',', 'history', ',', 'consumer', 'goods', ',', 'service', 'industries', ',', 'education', ',', 'sports', ',', '.', 'While', '’', 'always', 'wax', 'poetically', 'data', 'visualization', '(', '’', 'Tableau', 'website', ',', ')', 'practical', ',', 'real-life', 'applications', 'undeniable', '.', 'And', ',', 'since', 'visualization', 'prolific', ',', '’', 'also', 'one', 'useful', 'professional', 'skills', 'develop', '.', 'The', 'better', 'convey', 'points', 'visually', ',', 'whether', 'dashboard', 'slide', 'deck', ',', 'better', 'leverage', 'information', '.', 'The', 'concept', 'citizen', 'data', 'scientist', 'rise', '.', 'Skill', 'sets', 'changing', 'accommodate', 'data-driven', 'world', '.', 'It', 'increasingly', 'valuable', 'professionals', 'able', 'use', 'data', 'make', 'decisions', 'use', 'visuals', 'tell', 'stories', 'data', 'informs', ',', ',', ',', ',', '.', 'While', 'traditional', 'education', 'typically', 'draws', 'distinct', 'line', 'creative', 'storytelling', 'technical', 'analysis', ',', 'modern', 'professional', 'world', 'also', 'values', 'cross', 'two', ':', 'data', 'visualization', 'sits', 'right', 'middle', 'analysis', 'visual', 'storytelling', '.']\n"
     ]
    }
   ],
   "source": [
    "print(\"Filterd Sentence:\",filtered_sent)"
   ]
  },
  {
   "cell_type": "markdown",
   "id": "0be8b1e8",
   "metadata": {},
   "source": [
    "_Apliquem stemming, normalitzem les diferents paraules (ens quedem amb la seva arrel). Primer de tot carreguem les llibreries_"
   ]
  },
  {
   "cell_type": "code",
   "execution_count": 22,
   "id": "a171a5a7",
   "metadata": {},
   "outputs": [],
   "source": [
    "from nltk.stem import PorterStemmer\n",
    "from nltk.tokenize import sent_tokenize, word_tokenize"
   ]
  },
  {
   "cell_type": "code",
   "execution_count": 23,
   "id": "2cfefa7d",
   "metadata": {},
   "outputs": [],
   "source": [
    "ps = PorterStemmer()\n",
    "\n",
    "stemmed_words=[]\n",
    "for w in filtered_sent:\n",
    "    stemmed_words.append(ps.stem(w))"
   ]
  },
  {
   "cell_type": "code",
   "execution_count": 24,
   "id": "d638e6dc",
   "metadata": {},
   "outputs": [
    {
     "name": "stdout",
     "output_type": "stream",
     "text": [
      "Stemmed Sentence: ['whi', 'data', 'visual', 'import', 'career', '.', 'it', '’', 'hard', 'think', 'profession', 'industri', '’', 'benefit', 'make', 'data', 'understand', '.', 'everi', 'stem', 'field', 'benefit', 'understand', 'data—and', 'field', 'govern', ',', 'financ', ',', 'market', ',', 'histori', ',', 'consum', 'good', ',', 'servic', 'industri', ',', 'educ', ',', 'sport', ',', '.', 'while', '’', 'alway', 'wax', 'poetic', 'data', 'visual', '(', '’', 'tableau', 'websit', ',', ')', 'practic', ',', 'real-lif', 'applic', 'undeni', '.', 'and', ',', 'sinc', 'visual', 'prolif', ',', '’', 'also', 'one', 'use', 'profession', 'skill', 'develop', '.', 'the', 'better', 'convey', 'point', 'visual', ',', 'whether', 'dashboard', 'slide', 'deck', ',', 'better', 'leverag', 'inform', '.', 'the', 'concept', 'citizen', 'data', 'scientist', 'rise', '.', 'skill', 'set', 'chang', 'accommod', 'data-driven', 'world', '.', 'it', 'increasingli', 'valuabl', 'profession', 'abl', 'use', 'data', 'make', 'decis', 'use', 'visual', 'tell', 'stori', 'data', 'inform', ',', ',', ',', ',', '.', 'while', 'tradit', 'educ', 'typic', 'draw', 'distinct', 'line', 'creativ', 'storytel', 'technic', 'analysi', ',', 'modern', 'profession', 'world', 'also', 'valu', 'cross', 'two', ':', 'data', 'visual', 'sit', 'right', 'middl', 'analysi', 'visual', 'storytel', '.']\n"
     ]
    }
   ],
   "source": [
    "print(\"Stemmed Sentence:\",stemmed_words)"
   ]
  },
  {
   "cell_type": "markdown",
   "id": "b1e1fe95",
   "metadata": {},
   "source": [
    "## Nivell 3 - Exercici 1\n",
    "Realitza sentiment analysis al teu conjunt de dades."
   ]
  },
  {
   "cell_type": "markdown",
   "id": "ac7def45",
   "metadata": {},
   "source": [
    "_Dividim el text original en frases_"
   ]
  },
  {
   "cell_type": "code",
   "execution_count": 28,
   "id": "82cdb7b8",
   "metadata": {},
   "outputs": [],
   "source": [
    "tokenizer = nltk.data.load('tokenizers/punkt/english.pickle')\n",
    "sentences = tokenizer.tokenize(text)"
   ]
  },
  {
   "cell_type": "code",
   "execution_count": 29,
   "id": "474fac04",
   "metadata": {},
   "outputs": [
    {
     "name": "stdout",
     "output_type": "stream",
     "text": [
      "['Why data visualization is important for any career.', 'It’s hard to think of a professional industry that doesn’t benefit from making data more understandable.', 'Every STEM field benefits from understanding data—and so do fields in government, finance, marketing, history, consumer goods, service industries, education, sports, and so on.', 'While we’ll always wax poetically about data visualization (you’re on the Tableau website, after all) there are practical, real-life applications that are undeniable.', 'And, since visualization is so prolific, it’s also one of the most useful professional skills to develop.', 'The better you can convey your points visually, whether in a dashboard or a slide deck, the better you can leverage that information.', 'The concept of the citizen data scientist is on the rise.', 'Skill sets are changing to accommodate a data-driven world.', 'It is increasingly valuable for professionals to be able to use data to make decisions and use visuals to tell stories of when data informs the who, what, when, where, and how.', 'While traditional education typically draws a distinct line between creative storytelling and technical analysis, the modern professional world also values those who can cross between the two: data visualization sits right in the middle of analysis and visual storytelling.']\n"
     ]
    }
   ],
   "source": [
    "print(sentences)"
   ]
  },
  {
   "cell_type": "markdown",
   "id": "b6966d0a",
   "metadata": {},
   "source": [
    "_Analitzem el sentiment, carreguem les llibreries_"
   ]
  },
  {
   "cell_type": "code",
   "execution_count": 25,
   "id": "79d63add",
   "metadata": {},
   "outputs": [],
   "source": [
    "from nltk.sentiment.vader import SentimentIntensityAnalyzer\n",
    "from nltk import sentiment"
   ]
  },
  {
   "cell_type": "markdown",
   "id": "3ac25d32",
   "metadata": {},
   "source": [
    "_Creem analitzador de sentiments:_"
   ]
  },
  {
   "cell_type": "code",
   "execution_count": 26,
   "id": "97873607",
   "metadata": {},
   "outputs": [
    {
     "name": "stderr",
     "output_type": "stream",
     "text": [
      "[nltk_data] Downloading package vader_lexicon to\n",
      "[nltk_data]     C:\\Users\\Nuria\\AppData\\Roaming\\nltk_data...\n",
      "[nltk_data]   Package vader_lexicon is already up-to-date!\n"
     ]
    },
    {
     "data": {
      "text/plain": [
       "True"
      ]
     },
     "execution_count": 26,
     "metadata": {},
     "output_type": "execute_result"
    }
   ],
   "source": [
    "nltk.download('vader_lexicon')"
   ]
  },
  {
   "cell_type": "code",
   "execution_count": 27,
   "id": "412b66b3",
   "metadata": {},
   "outputs": [],
   "source": [
    "analizador = SentimentIntensityAnalyzer()"
   ]
  },
  {
   "cell_type": "markdown",
   "id": "ff1373c5",
   "metadata": {},
   "source": [
    "_Fem anàlisi de sentiments per cadascuna de les frases_"
   ]
  },
  {
   "cell_type": "code",
   "execution_count": 30,
   "id": "d29ec931",
   "metadata": {},
   "outputs": [
    {
     "name": "stdout",
     "output_type": "stream",
     "text": [
      "Why data visualization is important for any career.\n",
      "neg :  0.0\n",
      "\n",
      "neu :  0.795\n",
      "\n",
      "pos :  0.205\n",
      "\n",
      "compound :  0.2023\n",
      "\n",
      "It’s hard to think of a professional industry that doesn’t benefit from making data more understandable.\n",
      "neg :  0.08\n",
      "\n",
      "neu :  0.747\n",
      "\n",
      "pos :  0.172\n",
      "\n",
      "compound :  0.3818\n",
      "\n",
      "Every STEM field benefits from understanding data—and so do fields in government, finance, marketing, history, consumer goods, service industries, education, sports, and so on.\n",
      "neg :  0.0\n",
      "\n",
      "neu :  0.898\n",
      "\n",
      "pos :  0.102\n",
      "\n",
      "compound :  0.3818\n",
      "\n",
      "While we’ll always wax poetically about data visualization (you’re on the Tableau website, after all) there are practical, real-life applications that are undeniable.\n",
      "neg :  0.0\n",
      "\n",
      "neu :  1.0\n",
      "\n",
      "pos :  0.0\n",
      "\n",
      "compound :  0.0\n",
      "\n",
      "And, since visualization is so prolific, it’s also one of the most useful professional skills to develop.\n",
      "neg :  0.0\n",
      "\n",
      "neu :  0.834\n",
      "\n",
      "pos :  0.166\n",
      "\n",
      "compound :  0.4927\n",
      "\n",
      "The better you can convey your points visually, whether in a dashboard or a slide deck, the better you can leverage that information.\n",
      "neg :  0.0\n",
      "\n",
      "neu :  0.766\n",
      "\n",
      "pos :  0.234\n",
      "\n",
      "compound :  0.7003\n",
      "\n",
      "The concept of the citizen data scientist is on the rise.\n",
      "neg :  0.0\n",
      "\n",
      "neu :  1.0\n",
      "\n",
      "pos :  0.0\n",
      "\n",
      "compound :  0.0\n",
      "\n",
      "Skill sets are changing to accommodate a data-driven world.\n",
      "neg :  0.0\n",
      "\n",
      "neu :  1.0\n",
      "\n",
      "pos :  0.0\n",
      "\n",
      "compound :  0.0\n",
      "\n",
      "It is increasingly valuable for professionals to be able to use data to make decisions and use visuals to tell stories of when data informs the who, what, when, where, and how.\n",
      "neg :  0.0\n",
      "\n",
      "neu :  0.909\n",
      "\n",
      "pos :  0.091\n",
      "\n",
      "compound :  0.4767\n",
      "\n",
      "While traditional education typically draws a distinct line between creative storytelling and technical analysis, the modern professional world also values those who can cross between the two: data visualization sits right in the middle of analysis and visual storytelling.\n",
      "neg :  0.0\n",
      "\n",
      "neu :  0.865\n",
      "\n",
      "pos :  0.135\n",
      "\n",
      "compound :  0.6808\n",
      "\n"
     ]
    }
   ],
   "source": [
    "for sentence in sentences:\n",
    "    print(sentence)\n",
    "    scores = analizador.polarity_scores(sentence)\n",
    "    for key in scores:\n",
    "        print(key, ': ', scores[key])\n",
    "        print()"
   ]
  },
  {
   "cell_type": "markdown",
   "id": "111cada7",
   "metadata": {},
   "source": [
    "_Per a cadascuna de les frases del nostre text ens surt la valoració (de 0 a 1) de com de negativa (neg), neutral (neu) o positiva (pos) seria la frase. Totes les frases serien neutrals o positives_"
   ]
  },
  {
   "cell_type": "markdown",
   "id": "b0fea0cf",
   "metadata": {},
   "source": [
    "_El concepte compound (entre -1 y 1) indica d'una única vegada si la frase es positiva o negativa. Valors propers a -1 indiquen que és molt negativa, valors propers a próximos a zero indiquen que és neutra i valors propers a 1 seria molt positiva. Com ja hem dit abans, no tenin cap frase negativa, algunes totalment neutrals (valor de 0) i d'altres positives. Com per exemple, les dos darreres frases, que serien positives_"
   ]
  },
  {
   "cell_type": "markdown",
   "id": "a2d3f7f3",
   "metadata": {},
   "source": [
    "**Font:** https://www.arsys.es/blog/analisis-sentimientos-python-jupyter-notebooks/"
   ]
  }
 ],
 "metadata": {
  "kernelspec": {
   "display_name": "Python 3",
   "language": "python",
   "name": "python3"
  },
  "language_info": {
   "codemirror_mode": {
    "name": "ipython",
    "version": 3
   },
   "file_extension": ".py",
   "mimetype": "text/x-python",
   "name": "python",
   "nbconvert_exporter": "python",
   "pygments_lexer": "ipython3",
   "version": "3.8.8"
  }
 },
 "nbformat": 4,
 "nbformat_minor": 5
}
